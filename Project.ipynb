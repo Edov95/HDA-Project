{
 "cells": [
  {
   "cell_type": "code",
   "execution_count": 1,
   "metadata": {
    "collapsed": true
   },
   "outputs": [],
   "source": [
    "import numpy as np\n",
    "import scipy.io.wavfile\n",
    "from scipy.fftpack import dct\n",
    "import load_wav_files as lw"
   ]
  },
  {
   "cell_type": "markdown",
   "metadata": {},
   "source": [
    "# Features Extraction"
   ]
  },
  {
   "cell_type": "code",
   "execution_count": 2,
   "metadata": {},
   "outputs": [
    {
     "name": "stderr",
     "output_type": "stream",
     "text": [
      "/home/silvia/anaconda2/lib/python2.7/site-packages/scipy/io/wavfile.py:273: WavFileWarning: Chunk (non-data) not understood, skipping it.\n",
      "  WavFileWarning)\n"
     ]
    }
   ],
   "source": [
    "x_train, y_train = lw.load_dataset(\"../Dataset\", {'bed'}, 0.25, 'training')"
   ]
  },
  {
   "cell_type": "code",
   "execution_count": 3,
   "metadata": {},
   "outputs": [],
   "source": [
    "x_test, y_test = lw.load_dataset(\"../Dataset\", {'bed'}, 0.25, 'testing')"
   ]
  },
  {
   "cell_type": "markdown",
   "metadata": {},
   "source": [
    "### CNN"
   ]
  },
  {
   "cell_type": "code",
   "execution_count": 5,
   "metadata": {},
   "outputs": [
    {
     "name": "stderr",
     "output_type": "stream",
     "text": [
      "Using TensorFlow backend.\n"
     ]
    }
   ],
   "source": [
    "import keras \n",
    "from keras.models import Sequential\n",
    "from keras.layers import Conv2D, MaxPooling2D, Dense, Flatten, Dropout\n",
    "from keras.optimizers import Adam\n",
    "from keras.callbacks import TensorBoard"
   ]
  },
  {
   "cell_type": "code",
   "execution_count": 15,
   "metadata": {},
   "outputs": [
    {
     "name": "stdout",
     "output_type": "stream",
     "text": [
      "x_train shape: (1716, 99, 40, 1)\n"
     ]
    }
   ],
   "source": [
    "# Create the CNN\n",
    "\n",
    "feat_rows = 99\n",
    "feat_cols = 40\n",
    "batch_size = 1716\n",
    "feats_shape = (99, 40, 1)\n",
    "\n",
    "x_train = x_train.reshape(x_train.shape[0], *feats_shape) \n",
    "x_test = x_test.reshape(x_test.shape[0], *feats_shape)\n",
    "#x_validate = x_validate.reshape(x_validate.shape[0], *feats_shape)\n",
    "\n",
    "print('x_train shape: {}'.format(x_train.shape))\n",
    "#print('x_test shape: {}'.format(x_test.shape)\n",
    "#print('x_validate shape: {}'.format(x_validate.shape))\n"
   ]
  },
  {
   "cell_type": "code",
   "execution_count": 16,
   "metadata": {},
   "outputs": [],
   "source": [
    "# Create the CNN\n",
    "\n",
    "n_kws = 31\n",
    "\n",
    "model = Sequential()\n",
    "model.add(Conv2D(filters = 32, kernel_size = 3, strides=(1, 1), input_shape = feats_shape, \n",
    "            padding='valid', data_format='channels_last', dilation_rate=(1, 1),\n",
    "            activation='relu', use_bias=True, kernel_initializer='glorot_uniform',\n",
    "            bias_initializer='zeros'))\n",
    "\n",
    "model.add(MaxPooling2D(pool_size = 2))\n",
    "model.add(Dropout(0.2))\n",
    "model.add(Conv2D(32, (3,3), strides=(1, 1),  padding='valid',\n",
    "                 data_format='channels_last', dilation_rate=(1, 1),\n",
    "                 activation='relu', use_bias=True, kernel_initializer='glorot_uniform', \n",
    "                 bias_initializer='zeros'))\n",
    "model.add(MaxPooling2D(1))\n",
    "model.add(Flatten())\n",
    "model.add(Dense(32, activation = 'relu'))\n",
    "model.add(Dense(n_kws, activation='softmax'))\n"
   ]
  },
  {
   "cell_type": "code",
   "execution_count": null,
   "metadata": {
    "collapsed": true
   },
   "outputs": [],
   "source": [
    "tensorboard = TensorBoard(log_dir = r'\\logs{}'.format('cnn_1layer'), \n",
    "                         write_graph = True, write_grads = True, histogram_freq = 1, write_images = True)\n",
    "\n",
    "\n",
    "model.compile(loss='sparse_categorical_crossentropy',\n",
    "              optimizer=Adam(lr=0.001), metrics=['accuracy'])\n"
   ]
  },
  {
   "cell_type": "code",
   "execution_count": null,
   "metadata": {},
   "outputs": [
    {
     "name": "stdout",
     "output_type": "stream",
     "text": [
      "Epoch 1/10\n",
      "1716/1716 [==============================] - 115s - loss: 15.3841 - acc: 0.0437\n",
      "Epoch 2/10\n",
      "1716/1716 [==============================] - 88s - loss: 15.5720 - acc: 0.0344\n",
      "Epoch 3/10\n",
      "1716/1716 [==============================] - 107s - loss: 15.5907 - acc: 0.0332\n",
      "Epoch 4/10\n",
      "1716/1716 [==============================] - 27s - loss: 15.4122 - acc: 0.0443\n"
     ]
    }
   ],
   "source": [
    "model.fit(x_train, y_train, batch_size = batch_size, epochs=10,\n",
    "          verbose = 1) "
   ]
  },
  {
   "cell_type": "code",
   "execution_count": null,
   "metadata": {},
   "outputs": [],
   "source": [
    "score = model.evaluate(x_test, y_test, batch_size=16, verbose = 0)\n",
    "\n",
    "print('test loss: {:.4f}'.format(score[0]))\n",
    "print('test acc: {:.4f}'.format(score[1]))"
   ]
  },
  {
   "cell_type": "code",
   "execution_count": null,
   "metadata": {
    "collapsed": true
   },
   "outputs": [],
   "source": []
  }
 ],
 "metadata": {
  "kernelspec": {
   "display_name": "Python 3",
   "language": "python",
   "name": "python3"
  },
  "language_info": {
   "codemirror_mode": {
    "name": "ipython",
    "version": 2
   },
   "file_extension": ".py",
   "mimetype": "text/x-python",
   "name": "python",
   "nbconvert_exporter": "python",
   "pygments_lexer": "ipython2",
   "version": "2.7.13"
  }
 },
 "nbformat": 4,
 "nbformat_minor": 2
}
