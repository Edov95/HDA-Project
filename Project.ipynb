{
 "cells": [
  {
   "cell_type": "code",
   "execution_count": 1,
   "metadata": {},
   "outputs": [
    {
     "name": "stderr",
     "output_type": "stream",
     "text": [
      "/usr/local/lib/python3.6/dist-packages/h5py/__init__.py:36: FutureWarning: Conversion of the second argument of issubdtype from `float` to `np.floating` is deprecated. In future, it will be treated as `np.float64 == np.dtype(float).type`.\n",
      "  from ._conv import register_converters as _register_converters\n"
     ]
    }
   ],
   "source": [
    "import numpy as np\n",
    "import scipy.io.wavfile\n",
    "from scipy.fftpack import dct\n",
    "import speech_features.load_wav_files as lw\n",
    "import matplotlib.pyplot as plt"
   ]
  },
  {
   "cell_type": "markdown",
   "metadata": {},
   "source": [
    "# Features Extraction"
   ]
  },
  {
   "cell_type": "code",
   "execution_count": 2,
   "metadata": {},
   "outputs": [],
   "source": [
    "words = {'bed'}"
   ]
  },
  {
   "cell_type": "code",
   "execution_count": 3,
   "metadata": {},
   "outputs": [
    {
     "name": "stderr",
     "output_type": "stream",
     "text": [
      "/usr/lib/python3/dist-packages/scipy/io/wavfile.py:267: WavFileWarning: Chunk (non-data) not understood, skipping it.\n",
      "  WavFileWarning)\n"
     ]
    }
   ],
   "source": [
    "x_train_clean, y_train = lw.load_dataset(\"speech_commands_v0.01\", words, 'mfcc', 0, 'training', 1, 0, 10)\n",
    "x_train_noisy, _ = lw.load_dataset(\"speech_commands_v0.01\", words, 'mfcc', 1, 'training', 1, 0, 10)"
   ]
  },
  {
   "cell_type": "code",
   "execution_count": 4,
   "metadata": {},
   "outputs": [
    {
     "name": "stderr",
     "output_type": "stream",
     "text": [
      "/usr/lib/python3/dist-packages/scipy/io/wavfile.py:267: WavFileWarning: Chunk (non-data) not understood, skipping it.\n",
      "  WavFileWarning)\n"
     ]
    }
   ],
   "source": [
    "x_test_noisy, y_test = lw.load_dataset(\"speech_commands_v0.01\", words, 'mfcc', 0.25, 'testing', 1, 0, 10)\n",
    "x_test_clean, _ = lw.load_dataset(\"speech_commands_v0.01\", words, 'mfcc', 0, 'testing', 1, 0, 10)"
   ]
  },
  {
   "cell_type": "code",
   "execution_count": 4,
   "metadata": {},
   "outputs": [
    {
     "name": "stdout",
     "output_type": "stream",
     "text": [
      "(1516, 99, 12)\n",
      "933\n",
      "20.0\n"
     ]
    },
    {
     "data": {
      "image/png": "[encoded data removed]",
      "text/plain": [
       "<matplotlib.figure.Figure at 0x7f908873edd8>"
      ]
     },
     "metadata": {},
     "output_type": "display_data"
    }
   ],
   "source": [
    "print(x_train_clean.shape)\n",
    "index = np.random.randint(x_train_clean.shape[0])\n",
    "print(index)\n",
    "print(y_train[index])\n",
    "fig=plt.figure(figsize=(8, 8))\n",
    "fig.add_subplot(1, 2, 1)\n",
    "plt.imshow(np.transpose(x_train_clean[index]))\n",
    "fig.add_subplot(1, 2, 2)\n",
    "plt.imshow(np.transpose(x_train_noisy[index]))\n",
    "plt.show()"
   ]
  },
  {
   "cell_type": "code",
   "execution_count": 6,
   "metadata": {},
   "outputs": [],
   "source": [
    "np.save('x_test_clean', x_test_clean)\n",
    "np.save('x_test_noisy', x_test_noisy)\n",
    "np.save('y_test', y_test)"
   ]
  },
  {
   "cell_type": "code",
   "execution_count": 7,
   "metadata": {},
   "outputs": [],
   "source": [
    "np.save('x_training_clean', x_train_clean, allow_pickle = False)\n",
    "np.save('x_training_noisy', x_train_noisy, allow_pickle = False)\n",
    "np.save('y_training', y_train, allow_pickle = False)"
   ]
  },
  {
   "cell_type": "markdown",
   "metadata": {},
   "source": [
    "# Loading the desired dataset"
   ]
  },
  {
   "cell_type": "code",
   "execution_count": 3,
   "metadata": {},
   "outputs": [],
   "source": [
    "x_test_clean = np.load('x_test_clean.npy')\n",
    "x_test_noisy = np.load('x_test_noisy.npy')\n",
    "y_test = np.load('y_test.npy')"
   ]
  },
  {
   "cell_type": "code",
   "execution_count": 4,
   "metadata": {},
   "outputs": [],
   "source": [
    "x_train_clean = np.load('x_training_clean.npy', allow_pickle = False)\n",
    "x_train_noisy = np.load('x_training_noisy.npy', allow_pickle = False)\n",
    "y_train = np.load('y_training.npy', allow_pickle = False)"
   ]
  },
  {
   "cell_type": "markdown",
   "metadata": {},
   "source": [
    "# Reshape dataset"
   ]
  },
  {
   "cell_type": "code",
   "execution_count": 5,
   "metadata": {
    "scrolled": true
   },
   "outputs": [
    {
     "name": "stdout",
     "output_type": "stream",
     "text": [
      "x_train_clean shape: (16929, 99, 12, 1)\n",
      "x_train_noisy shape: (16929, 99, 12, 1)\n",
      "x_test_clean shape: (2021, 99, 12, 1)\n",
      "x_test_noisy shape: (2021, 99, 12, 1)\n"
     ]
    }
   ],
   "source": [
    "feat_rows = x_train_clean.shape[1]\n",
    "feat_cols = x_train_clean.shape[2]\n",
    "feats_shape = (feat_rows, feat_cols, 1)\n",
    "\n",
    "x_test_clean = x_test_clean / (np.max(x_test_clean) + 1)\n",
    "x_test_noisy = x_test_noisy / (np.max(x_test_noisy) + 1)\n",
    "x_train_clean = x_train_clean / (np.max(x_train_clean) + 1)\n",
    "x_train_noisy = x_train_noisy / (np.max(x_train_noisy) + 1)\n",
    "\n",
    "\n",
    "x_train_clean = x_train_clean.reshape(x_train_clean.shape[0], *feats_shape)\n",
    "x_train_noisy = x_train_noisy.reshape(x_train_noisy.shape[0], *feats_shape)\n",
    "x_test_clean = x_test_clean.reshape(x_test_clean.shape[0], *feats_shape)\n",
    "x_test_noisy = x_test_noisy.reshape(x_test_noisy.shape[0], *feats_shape)\n",
    "\n",
    "print('x_train_clean shape: {}'.format(x_train_clean.shape))\n",
    "print('x_train_noisy shape: {}'.format(x_train_noisy.shape))\n",
    "print('x_test_clean shape: {}'.format(x_test_clean.shape))\n",
    "print('x_test_noisy shape: {}'.format(x_test_noisy.shape))\n",
    "\n"
   ]
  },
  {
   "cell_type": "markdown",
   "metadata": {
    "collapsed": true
   },
   "source": [
    "# Autoencoder "
   ]
  },
  {
   "cell_type": "code",
   "execution_count": 2,
   "metadata": {},
   "outputs": [
    {
     "name": "stderr",
     "output_type": "stream",
     "text": [
      "/usr/local/lib/python3.6/dist-packages/h5py/__init__.py:36: FutureWarning: Conversion of the second argument of issubdtype from `float` to `np.floating` is deprecated. In future, it will be treated as `np.float64 == np.dtype(float).type`.\n",
      "  from ._conv import register_converters as _register_converters\n",
      "Using TensorFlow backend.\n"
     ]
    }
   ],
   "source": [
    "import keras\n",
    "from matplotlib import pyplot as plt\n",
    "import gzip\n",
    "%matplotlib inline\n",
    "from keras.layers import Input,Conv2D,MaxPooling2D,UpSampling2D, Flatten, Dense, Reshape\n",
    "from keras.models import Model\n",
    "from keras.optimizers import RMSprop, Adam"
   ]
  },
  {
   "cell_type": "code",
   "execution_count": 7,
   "metadata": {},
   "outputs": [],
   "source": [
    "batch_size = 128\n",
    "epochs = 5\n",
    "inChannel = 1\n",
    "x, y = x_train_clean.shape[1], x_train_clean.shape[2]\n",
    "input_img = Input(shape = (x, y, inChannel))"
   ]
  },
  {
   "cell_type": "code",
   "execution_count": 11,
   "metadata": {},
   "outputs": [],
   "source": [
    "def autoencoder(input_img):\n",
    "    conv1 = Conv2D(32, (3, 3), activation='relu', padding='same')(input_img) #99 x 12 x 32\n",
    "    pool1 = MaxPooling2D(pool_size=(3, 2))(conv1) #33 x 20 x 32\n",
    "    \n",
    "    conv2 = Conv2D(16, (3, 3), activation='relu', padding='same')(pool1) #33 x 6 x 64\n",
    "    pool2 = MaxPooling2D(pool_size=(3, 2))(conv2) #11 x 10 x 64\n",
    "    \n",
    "    conv3 = Conv2D(8, (3, 3), activation='relu', padding='same')(pool2) #11 x 3 x 128 (small and thick)\n",
    "    \n",
    "    flatten = Flatten()(conv3)\n",
    "    reshaped = Reshape((11,3,8))(flatten)\n",
    "    \n",
    "    conv4 = Conv2D(8, (3, 3), activation='relu', padding='same')(reshaped) #11 x 3 x 128\n",
    "    up1 = UpSampling2D((3,2))(conv4) # 33 x 20 x 128\n",
    "    \n",
    "    conv5 = Conv2D(16, (3, 3), activation='relu', padding='same')(up1) #33 x 6 x 64\n",
    "    up2 = UpSampling2D((3,2))(conv5) # 99 x 40 x 64\n",
    "    \n",
    "    conv6 = Conv2D(32, (3, 3), activation='relu', padding='same')(up2)\n",
    "    decoded = Conv2D(1, (3, 3), activation='sigmoid', padding='same')(conv6) # 99 x 12 x 1\n",
    "    \n",
    "    return flatten, decoded"
   ]
  },
  {
   "cell_type": "code",
   "execution_count": 12,
   "metadata": {},
   "outputs": [
    {
     "data": {
      "text/plain": [
       "<tf.Tensor 'flatten_1/Reshape:0' shape=(?, ?) dtype=float32>"
      ]
     },
     "execution_count": 12,
     "metadata": {},
     "output_type": "execute_result"
    }
   ],
   "source": [
    "flatten, decoded = autoencoder(input_img) \n",
    "flatten"
   ]
  },
  {
   "cell_type": "code",
   "execution_count": 13,
   "metadata": {},
   "outputs": [],
   "source": [
    "autoencoder = Model(input_img, decoded)\n",
    "autoencoder.compile(Adam(lr=0.001), loss='mse')"
   ]
  },
  {
   "cell_type": "code",
   "execution_count": 14,
   "metadata": {},
   "outputs": [
    {
     "name": "stdout",
     "output_type": "stream",
     "text": [
      "_________________________________________________________________\n",
      "Layer (type)                 Output Shape              Param #   \n",
      "=================================================================\n",
      "input_1 (InputLayer)         (None, 99, 12, 1)         0         \n",
      "_________________________________________________________________\n",
      "conv2d_1 (Conv2D)            (None, 99, 12, 32)        320       \n",
      "_________________________________________________________________\n",
      "max_pooling2d_1 (MaxPooling2 (None, 33, 6, 32)         0         \n",
      "_________________________________________________________________\n",
      "conv2d_2 (Conv2D)            (None, 33, 6, 16)         4624      \n",
      "_________________________________________________________________\n",
      "max_pooling2d_2 (MaxPooling2 (None, 11, 3, 16)         0         \n",
      "_________________________________________________________________\n",
      "conv2d_3 (Conv2D)            (None, 11, 3, 8)          1160      \n",
      "_________________________________________________________________\n",
      "flatten_1 (Flatten)          (None, 264)               0         \n",
      "_________________________________________________________________\n",
      "reshape_1 (Reshape)          (None, 11, 3, 8)          0         \n",
      "_________________________________________________________________\n",
      "conv2d_4 (Conv2D)            (None, 11, 3, 8)          584       \n",
      "_________________________________________________________________\n",
      "up_sampling2d_1 (UpSampling2 (None, 33, 6, 8)          0         \n",
      "_________________________________________________________________\n",
      "conv2d_5 (Conv2D)            (None, 33, 6, 16)         1168      \n",
      "_________________________________________________________________\n",
      "up_sampling2d_2 (UpSampling2 (None, 99, 12, 16)        0         \n",
      "_________________________________________________________________\n",
      "conv2d_6 (Conv2D)            (None, 99, 12, 32)        4640      \n",
      "_________________________________________________________________\n",
      "conv2d_7 (Conv2D)            (None, 99, 12, 1)         289       \n",
      "=================================================================\n",
      "Total params: 12,785\n",
      "Trainable params: 12,785\n",
      "Non-trainable params: 0\n",
      "_________________________________________________________________\n"
     ]
    }
   ],
   "source": [
    "autoencoder.summary()"
   ]
  },
  {
   "cell_type": "code",
   "execution_count": 15,
   "metadata": {},
   "outputs": [
    {
     "name": "stdout",
     "output_type": "stream",
     "text": [
      "Epoch 1/4\n",
      "16929/16929 [==============================] - 147s 9ms/step - loss: 0.0552\n",
      "Epoch 2/4\n",
      "16929/16929 [==============================] - 146s 9ms/step - loss: 0.0313\n",
      "Epoch 3/4\n",
      "16929/16929 [==============================] - 143s 8ms/step - loss: 0.0299\n",
      "Epoch 4/4\n",
      "16929/16929 [==============================] - 145s 9ms/step - loss: 0.0297\n"
     ]
    }
   ],
   "source": [
    "autoencoder_train = autoencoder.fit(x_train_noisy, x_train_clean, batch_size=batch_size,epochs=4,verbose=1)"
   ]
  },
  {
   "cell_type": "code",
   "execution_count": 16,
   "metadata": {},
   "outputs": [
    {
     "name": "stdout",
     "output_type": "stream",
     "text": [
      "2021/2021 [==============================] - 6s 3ms/step\n",
      "0.045268369279156694\n",
      "2021/2021 [==============================] - 6s 3ms/step\n",
      "0.04944216996018454\n"
     ]
    }
   ],
   "source": [
    "score_clean = autoencoder.evaluate(x_test_clean, x_test_clean, batch_size = batch_size, verbose = 1)\n",
    "print(score_clean)\n",
    "score_noisy = autoencoder.evaluate(x_test_noisy, x_test_noisy, batch_size = batch_size, verbose = 1)\n",
    "print(score_noisy)"
   ]
  },
  {
   "cell_type": "code",
   "execution_count": 17,
   "metadata": {},
   "outputs": [],
   "source": [
    "enc = Model(input_img, flatten)\n",
    "enc.save('enc_saved.h5')"
   ]
  },
  {
   "cell_type": "markdown",
   "metadata": {},
   "source": [
    "#### Load encoder"
   ]
  },
  {
   "cell_type": "code",
   "execution_count": 8,
   "metadata": {},
   "outputs": [
    {
     "name": "stderr",
     "output_type": "stream",
     "text": [
      "/usr/local/lib/python3.6/dist-packages/keras/engine/saving.py:270: UserWarning: No training configuration found in save file: the model was *not* compiled. Compile it manually.\n",
      "  warnings.warn('No training configuration found in save file: '\n"
     ]
    }
   ],
   "source": [
    "from keras.models import load_model\n",
    "enc = load_model('enc_saved.h5')"
   ]
  },
  {
   "cell_type": "code",
   "execution_count": 9,
   "metadata": {},
   "outputs": [
    {
     "name": "stdout",
     "output_type": "stream",
     "text": [
      "(16929, 264)\n"
     ]
    }
   ],
   "source": [
    "encoded_feature = enc.predict(x_train_noisy)\n",
    "print(encoded_feature.shape)"
   ]
  },
  {
   "cell_type": "code",
   "execution_count": 10,
   "metadata": {},
   "outputs": [],
   "source": [
    "encoded_test_clean = enc.predict(x_test_clean)\n",
    "encoded_test_noisy = enc.predict(x_test_noisy)"
   ]
  },
  {
   "cell_type": "code",
   "execution_count": 8,
   "metadata": {},
   "outputs": [],
   "source": [
    "def plot_grid_search(cv_results, grid_param_1, grid_param_2, name_param_1, name_param_2):\n",
    "    # Get Test Scores Mean and std for each grid search\n",
    "    scores_mean = cv_results\n",
    "    scores_mean = np.array(scores_mean).reshape(len(grid_param_2),len(grid_param_1))\n",
    "\n",
    "    #scores_sd = cv_results['std_test_score']\n",
    "    #scores_sd = np.array(scores_sd).reshape(len(grid_param_2),len(grid_param_1))\n",
    "\n",
    "    # Plot Grid search scores\n",
    "    #fig, ax = plt.figure()\n",
    "    _, ax = plt.subplots(1,1)\n",
    "\n",
    "    # Param1 is the X-axis, Param 2 is represented as a different curve (color line)\n",
    "    for idx, val in enumerate(grid_param_2):\n",
    "        ax.plot(grid_param_1, scores_mean[idx,:], '-o', label= name_param_2 + ': ' + str(val))\n",
    "\n",
    "    ax.set_title(\"Grid Search Scores\", fontsize=20, fontweight='bold')\n",
    "    ax.set_xlabel(name_param_1, fontsize=16)\n",
    "    ax.set_ylabel('CV Average Score', fontsize=16)\n",
    "    ax.legend(loc=\"best\", fontsize=15)\n",
    "    ax.grid('on')\n",
    "    #fig.add_axes(ax)\n",
    "    plt.savefig('GridSearchCV.png')\n"
   ]
  },
  {
   "cell_type": "code",
   "execution_count": null,
   "metadata": {},
   "outputs": [
    {
     "name": "stdout",
     "output_type": "stream",
     "text": [
      "SVM classification\n",
      "[LibSVM]"
     ]
    }
   ],
   "source": [
    "from sklearn import svm\n",
    "from sklearn.model_selection import GridSearchCV\n",
    "\n",
    "print(\"SVM classification\")\n",
    "\n",
    "degree = [4, 5]\n",
    "#C = [1, 10, 100, 1000]\n",
    "\n",
    "parameters = {'degree': degree }\n",
    "svc = svm.SVC(decision_function_shape = 'ovr', tol = 0.00001, verbose = 1, kernel = 'poly',\n",
    "              coef0 = 1, probability = True, C = 1000)\n",
    "clf = GridSearchCV(svc, parameters, n_jobs = 4)\n",
    "clf.fit(encoded_feature, y_train)"
   ]
  },
  {
   "cell_type": "code",
   "execution_count": 24,
   "metadata": {},
   "outputs": [
    {
     "name": "stdout",
     "output_type": "stream",
     "text": [
      "{'degree': 4} 0.6898221985941284\n"
     ]
    }
   ],
   "source": [
    "print(clf.best_params_, clf.best_score_)"
   ]
  },
  {
   "cell_type": "code",
   "execution_count": 12,
   "metadata": {},
   "outputs": [
    {
     "data": {
      "image/png": "[encoded data removed]",
      "text/plain": [
       "<matplotlib.figure.Figure at 0x7f59e26041d0>"
      ]
     },
     "metadata": {},
     "output_type": "display_data"
    }
   ],
   "source": [
    "plot_grid_search(clf.cv_results_, degree, [1000], \"Degree\", \"C\")"
   ]
  },
  {
   "cell_type": "code",
   "execution_count": 18,
   "metadata": {},
   "outputs": [
    {
     "data": {
      "text/plain": [
       "0.7278574962889659"
      ]
     },
     "execution_count": 18,
     "metadata": {},
     "output_type": "execute_result"
    }
   ],
   "source": [
    "clf.score(encoded_test_clean, y_test)"
   ]
  },
  {
   "cell_type": "code",
   "execution_count": 19,
   "metadata": {},
   "outputs": [
    {
     "data": {
      "text/plain": [
       "0.6556160316674914"
      ]
     },
     "execution_count": 19,
     "metadata": {},
     "output_type": "execute_result"
    }
   ],
   "source": [
    "clf.score(encoded_test_noisy, y_test)"
   ]
  },
  {
   "cell_type": "code",
   "execution_count": null,
   "metadata": {},
   "outputs": [],
   "source": []
  }
 ],
 "metadata": {
  "kernelspec": {
   "display_name": "Python 3",
   "language": "python",
   "name": "python3"
  },
  "language_info": {
   "codemirror_mode": {
    "name": "ipython",
    "version": 3
   },
   "file_extension": ".py",
   "mimetype": "text/x-python",
   "name": "python",
   "nbconvert_exporter": "python",
   "pygments_lexer": "ipython3",
   "version": "3.6.3"
  }
 },
 "nbformat": 4,
 "nbformat_minor": 2
}
